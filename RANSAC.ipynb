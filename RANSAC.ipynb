{
 "cells": [
  {
   "cell_type": "code",
   "execution_count": 2,
   "metadata": {},
   "outputs": [],
   "source": [
    "import numpy as np\n",
    "import matplotlib.pyplot as plt\n",
    "import os\n",
    "\n",
    "from sklearn.linear_model import RANSACRegressor\n",
    "from sklearn.linear_model import LinearRegression\n",
    "from sklearn.preprocessing import PolynomialFeatures\n",
    "from sklearn.pipeline import make_pipeline\n",
    "from sklearn.metrics import mean_squared_error"
   ]
  },
  {
   "cell_type": "code",
   "execution_count": 3,
   "metadata": {},
   "outputs": [],
   "source": [
    "def rigid_transform_3D(A, B):\n",
    "    assert len(A) == len(B)\n",
    "    N = A.shape[0]  # total points\n",
    "\n",
    "    centroid_A = np.mean(A, axis=0) # mean of all points\n",
    "    centroid_B = np.mean(B, axis=0) # mean of all points\n",
    "\n",
    "    AA = A - centroid_A # remove offset\n",
    "    BB = B - centroid_B # remove offset\n",
    "\n",
    "    H = AA.T @ BB # correlation\n",
    "\n",
    "    U, S, Vt = np.linalg.svd(H) # singular value decomposition\n",
    "    R = Vt.T @ U.T # rotation\n",
    "\n",
    "    if np.linalg.det(R) < 0:\n",
    "        Vt[-1, :] *= -1\n",
    "        R = Vt.T @ U.T\n",
    "\n",
    "    t = centroid_B.T - R @ centroid_A.T\n",
    "\n",
    "    return R, t\n",
    "\n",
    "def apply_transformation(d_xyz, R, t):\n",
    "    return d_xyz @ R.T + t"
   ]
  },
  {
   "cell_type": "code",
   "execution_count": 12,
   "metadata": {},
   "outputs": [
    {
     "name": "stdout",
     "output_type": "stream",
     "text": [
      "(125499, 3)\n",
      "(807, 125499, 3)\n",
      "(807, 125499, 3)\n"
     ]
    }
   ],
   "source": [
    "# NEW CANONICAL SPACE\n",
    "\n",
    "#datapath=\"/cluster/project/hilliges/mbressieux/log/plate_novel_view\"\n",
    "datapath=\"/M2SSD1/Logs/Def_3DGS/cup_novel_view\"\n",
    "\n",
    "xyz=np.load(os.path.join(datapath,\"can_xyz.npy\")) #size nb_gaussx3\n",
    "d_xyz=np.load(os.path.join(datapath,\"can_d_xyz.npy\")) #size timestampxnb_gaussx3\n",
    "d_scaling=np.load(os.path.join(datapath,\"can_d_scaling.npy\")) #size timestampx3\n",
    "\n",
    "print(xyz.shape)\n",
    "print(d_xyz.shape)\n",
    "print(d_scaling.shape)"
   ]
  },
  {
   "cell_type": "code",
   "execution_count": 27,
   "metadata": {},
   "outputs": [
    {
     "data": {
      "image/png": "[encoded data removed]",
      "text/plain": [
       "<Figure size 640x480 with 1 Axes>"
      ]
     },
     "metadata": {},
     "output_type": "display_data"
    }
   ],
   "source": [
    "# d_xyz is the 3D gaussian movement [timestep,n_gauss,3]\n",
    "\n",
    "# We want to find the rigid motion that best fits the data\n",
    "\n",
    "#we take the first timestep as the canonical space\n",
    "canonical_d_xyz=xyz #size nb_gaussx3\n",
    "timestamp=400\n",
    "\n",
    "#we want to find the rotation and translation that best fits the data at timestamp\n",
    "\n",
    "# Use Ransac to estimate if some gaussians are moving in rigid motion\n",
    "# A rigid motion is a motion that can be described by a rotation and a translation\n",
    "# We can estimate the rotation and translation using Ransac\n",
    "# Then we can remove the first rigid motion from the data and repeat the process to find the next rigid motion\n",
    "\n",
    "#step 1: take a subset of the data\n",
    "idx=np.random.choice(d_xyz.shape[1],size=1000,replace=False)\n",
    "subset1=xyz[idx]\n",
    "subset2=xyz[idx] + d_xyz[timestamp,idx]\n",
    "\n",
    "#step 2: find the rotation and translation that best fit the data\n",
    "R, t = rigid_transform_3D(subset1,subset2)\n",
    "\n",
    "#step 3: apply the transformation to the whole data\n",
    "transformed_d_xyz=apply_transformation(xyz+d_xyz[timestamp], R, t)\n",
    "\n",
    "#step 4: compute the error\n",
    "error=np.linalg.norm(transformed_d_xyz-xyz,axis=1)\n",
    "\n",
    "#step 5: plot the error\n",
    "plt.hist(error,bins=100)\n",
    "plt.show()\n",
    "\n",
    "\n",
    "\n",
    "\n",
    "\n",
    "\n",
    "\n",
    "\n",
    "\n",
    "\n"
   ]
  },
  {
   "cell_type": "code",
   "execution_count": 60,
   "metadata": {},
   "outputs": [
    {
     "name": "stdout",
     "output_type": "stream",
     "text": [
      "(125499, 3)\n",
      "(807, 125499, 3)\n",
      "(807, 125499, 3)\n",
      "Number of inliers: 99478\n",
      "Number of outliers: 26021\n",
      "Number of inliers: 1423\n",
      "Number of outliers: 24598\n",
      "Number of inliers: 349\n",
      "Number of outliers: 24249\n",
      "Number of inliers: 52\n",
      "Number of outliers: 24197\n",
      "Number of inliers: 24\n",
      "Number of outliers: 24173\n"
     ]
    },
    {
     "name": "stderr",
     "output_type": "stream",
     "text": [
      "/home/micka/miniconda3/envs/pytorch_env/lib/python3.8/site-packages/sklearn/metrics/_regression.py:996: UndefinedMetricWarning: R^2 score is not well-defined with less than two samples.\n",
      "  warnings.warn(msg, UndefinedMetricWarning)\n",
      "/home/micka/miniconda3/envs/pytorch_env/lib/python3.8/site-packages/sklearn/metrics/_regression.py:996: UndefinedMetricWarning: R^2 score is not well-defined with less than two samples.\n",
      "  warnings.warn(msg, UndefinedMetricWarning)\n"
     ]
    },
    {
     "name": "stdout",
     "output_type": "stream",
     "text": [
      "Number of inliers: 10\n",
      "Number of outliers: 24163\n",
      "Number of inliers: 22\n",
      "Number of outliers: 24141\n"
     ]
    },
    {
     "name": "stderr",
     "output_type": "stream",
     "text": [
      "/home/micka/miniconda3/envs/pytorch_env/lib/python3.8/site-packages/sklearn/metrics/_regression.py:996: UndefinedMetricWarning: R^2 score is not well-defined with less than two samples.\n",
      "  warnings.warn(msg, UndefinedMetricWarning)\n",
      "/home/micka/miniconda3/envs/pytorch_env/lib/python3.8/site-packages/sklearn/metrics/_regression.py:996: UndefinedMetricWarning: R^2 score is not well-defined with less than two samples.\n",
      "  warnings.warn(msg, UndefinedMetricWarning)\n"
     ]
    },
    {
     "name": "stdout",
     "output_type": "stream",
     "text": [
      "Number of inliers: 11\n",
      "Number of outliers: 24130\n",
      "Number of inliers: 12\n",
      "Number of outliers: 24118\n"
     ]
    },
    {
     "name": "stderr",
     "output_type": "stream",
     "text": [
      "/home/micka/miniconda3/envs/pytorch_env/lib/python3.8/site-packages/sklearn/metrics/_regression.py:996: UndefinedMetricWarning: R^2 score is not well-defined with less than two samples.\n",
      "  warnings.warn(msg, UndefinedMetricWarning)\n",
      "/home/micka/miniconda3/envs/pytorch_env/lib/python3.8/site-packages/sklearn/metrics/_regression.py:996: UndefinedMetricWarning: R^2 score is not well-defined with less than two samples.\n",
      "  warnings.warn(msg, UndefinedMetricWarning)\n",
      "/home/micka/miniconda3/envs/pytorch_env/lib/python3.8/site-packages/sklearn/metrics/_regression.py:996: UndefinedMetricWarning: R^2 score is not well-defined with less than two samples.\n",
      "  warnings.warn(msg, UndefinedMetricWarning)\n",
      "/home/micka/miniconda3/envs/pytorch_env/lib/python3.8/site-packages/sklearn/metrics/_regression.py:996: UndefinedMetricWarning: R^2 score is not well-defined with less than two samples.\n",
      "  warnings.warn(msg, UndefinedMetricWarning)\n",
      "/home/micka/miniconda3/envs/pytorch_env/lib/python3.8/site-packages/sklearn/metrics/_regression.py:996: UndefinedMetricWarning: R^2 score is not well-defined with less than two samples.\n",
      "  warnings.warn(msg, UndefinedMetricWarning)\n",
      "/home/micka/miniconda3/envs/pytorch_env/lib/python3.8/site-packages/sklearn/metrics/_regression.py:996: UndefinedMetricWarning: R^2 score is not well-defined with less than two samples.\n",
      "  warnings.warn(msg, UndefinedMetricWarning)\n",
      "/home/micka/miniconda3/envs/pytorch_env/lib/python3.8/site-packages/sklearn/metrics/_regression.py:996: UndefinedMetricWarning: R^2 score is not well-defined with less than two samples.\n",
      "  warnings.warn(msg, UndefinedMetricWarning)\n",
      "/home/micka/miniconda3/envs/pytorch_env/lib/python3.8/site-packages/sklearn/metrics/_regression.py:996: UndefinedMetricWarning: R^2 score is not well-defined with less than two samples.\n",
      "  warnings.warn(msg, UndefinedMetricWarning)\n"
     ]
    },
    {
     "name": "stdout",
     "output_type": "stream",
     "text": [
      "Number of inliers: 4\n",
      "Number of outliers: 24114\n"
     ]
    },
    {
     "ename": "ValueError",
     "evalue": "setting an array element with a sequence. The requested array has an inhomogeneous shape after 1 dimensions. The detected shape was (10,) + inhomogeneous part.",
     "output_type": "error",
     "traceback": [
      "\u001b[0;31m---------------------------------------------------------------------------\u001b[0m",
      "\u001b[0;31mValueError\u001b[0m                                Traceback (most recent call last)",
      "Cell \u001b[0;32mIn[60], line 130\u001b[0m\n\u001b[1;32m    128\u001b[0m rigid_rot\u001b[38;5;241m=\u001b[39mnp\u001b[38;5;241m.\u001b[39marray(rigid_rot)\n\u001b[1;32m    129\u001b[0m rigid_t\u001b[38;5;241m=\u001b[39mnp\u001b[38;5;241m.\u001b[39marray(rigid_t)\n\u001b[0;32m--> 130\u001b[0m inliers_arr\u001b[38;5;241m=\u001b[39m\u001b[43mnp\u001b[49m\u001b[38;5;241;43m.\u001b[39;49m\u001b[43marray\u001b[49m\u001b[43m(\u001b[49m\u001b[43minliers_arr\u001b[49m\u001b[43m)\u001b[49m\n",
      "\u001b[0;31mValueError\u001b[0m: setting an array element with a sequence. The requested array has an inhomogeneous shape after 1 dimensions. The detected shape was (10,) + inhomogeneous part."
     ]
    }
   ],
   "source": [
    "import numpy as np\n",
    "import matplotlib.pyplot as plt\n",
    "import os\n",
    "from sklearn.linear_model import RANSACRegressor\n",
    "from sklearn.base import BaseEstimator, RegressorMixin\n",
    "\n",
    "def rigid_transform_3D(A, B):\n",
    "    assert len(A) == len(B)\n",
    "    N = A.shape[0]  # total points\n",
    "\n",
    "    centroid_A = np.mean(A, axis=0) # mean of all points\n",
    "    centroid_B = np.mean(B, axis=0) # mean of all points\n",
    "\n",
    "    AA = A - centroid_A # remove offset\n",
    "    BB = B - centroid_B # remove offset\n",
    "\n",
    "    H = AA.T @ BB # correlation\n",
    "\n",
    "    U, S, Vt = np.linalg.svd(H) # singular value decomposition\n",
    "    R = Vt.T @ U.T # rotation\n",
    "\n",
    "    if np.linalg.det(R) < 0:\n",
    "        Vt[-1, :] *= -1\n",
    "        R = Vt.T @ U.T\n",
    "\n",
    "    t = centroid_B.T - R @ centroid_A.T\n",
    "\n",
    "    return R, t\n",
    "\n",
    "def apply_transformation(d_xyz, R, t):\n",
    "    return d_xyz @ R.T + t\n",
    "\n",
    "class RigidTransformModel(BaseEstimator, RegressorMixin):\n",
    "    def fit(self, X, y):\n",
    "        self.R, self.t = rigid_transform_3D(X, y)\n",
    "        return self\n",
    "\n",
    "    def predict(self, X):\n",
    "        return apply_transformation(X, self.R, self.t)\n",
    "\n",
    "# NEW CANONICAL SPACE\n",
    "\n",
    "datapath = \"/M2SSD1/Logs/Def_3DGS/cup_novel_view\"\n",
    "\n",
    "xyz = np.load(os.path.join(datapath, \"can_xyz.npy\"))  # size nb_gaussx3\n",
    "d_xyz = np.load(os.path.join(datapath, \"can_d_xyz.npy\"))  # size timestampxnb_gaussx3\n",
    "d_scaling = np.load(os.path.join(datapath, \"can_d_scaling.npy\"))  # size timestampx3\n",
    "\n",
    "print(xyz.shape)\n",
    "print(d_xyz.shape)\n",
    "print(d_scaling.shape)\n",
    "\n",
    "# d_xyz is the 3D gaussian movement [timestep, n_gauss, 3]\n",
    "\n",
    "# We want to find the rigid motion that best fits the data\n",
    "\n",
    "# we take the first timestep as the canonical space\n",
    "canonical_d_xyz = xyz  # size nb_gaussx3\n",
    "timestamp = 400\n",
    "\n",
    "# Use RANSAC to estimate if some gaussians are moving in rigid motion\n",
    "# A rigid motion is a motion that can be described by a rotation and a translation\n",
    "# We can estimate the rotation and translation using RANSAC\n",
    "# Then we can remove the first rigid motion from the data and repeat the process to find the next rigid motion\n",
    "\n",
    "nb_rigid_motions = 10\n",
    "\n",
    "inliers_arr = []\n",
    "rigid_rot = []\n",
    "rigid_t = []\n",
    "\n",
    "for i in range(nb_rigid_motions):\n",
    "\n",
    "    # step 1: take a subset of the data\n",
    "    idx = np.random.choice(d_xyz.shape[1], size=1000, replace=False)\n",
    "    subset1 = xyz[idx]\n",
    "    subset2 = xyz[idx] + d_xyz[timestamp, idx]\n",
    "\n",
    "    # step 2: use RANSAC to find the rotation and translation that best fit the data\n",
    "    ransac = RANSACRegressor(estimator=RigidTransformModel(), min_samples=1000, residual_threshold=0.05, max_trials=100)\n",
    "    ransac.fit(xyz, xyz + d_xyz[timestamp])\n",
    "\n",
    "    # Check if RANSAC found a valid consensus set\n",
    "    if ransac.inlier_mask_.sum() == 0:\n",
    "        print(\"RANSAC could not find a valid consensus set. Try adjusting the parameters.\")\n",
    "    else:\n",
    "        # Get the estimated rigid transformation\n",
    "        R, t = ransac.estimator_.R, ransac.estimator_.t\n",
    "\n",
    "        # Get the inliers and outliers\n",
    "        inliers = ransac.inlier_mask_\n",
    "        outliers = ~inliers\n",
    "\n",
    "        # Print the number of inliers\n",
    "        print(f\"Number of inliers: {inliers.sum()}\")\n",
    "        print(f\"Number of outliers: {outliers.sum()}\")\n",
    "\n",
    "        # step 3: apply the transformation to the whole data\n",
    "        transformed_d_xyz = apply_transformation(xyz + d_xyz[timestamp], R, t)\n",
    "\n",
    "        # step 4: compute the error\n",
    "        error = np.linalg.norm(transformed_d_xyz - xyz, axis=1)\n",
    "\n",
    "        # step 5: plot the error\n",
    "        \"\"\"plt.hist(error, bins=100)\n",
    "        plt.show()\"\"\"\n",
    "\n",
    "        \"\"\"# step 6: plot the inliers and outliers\n",
    "        fig = plt.figure()\n",
    "        ax = fig.add_subplot(111, projection='3d')\n",
    "        ax.scatter(xyz[inliers, 0], xyz[inliers, 1], xyz[inliers, 2], c='b', label='Inliers')\n",
    "        ax.scatter(xyz[outliers, 0], xyz[outliers, 1], xyz[outliers, 2], c='r', label='Outliers')\n",
    "        ax.set_xlabel('X')\n",
    "        ax.set_ylabel('Y')\n",
    "        ax.set_zlabel('Z')\n",
    "        ax.legend()\n",
    "        plt.show()\"\"\"\n",
    "\n",
    "    # step 7: remove the inliers and repeat the process\n",
    "    xyz = xyz[outliers]\n",
    "    d_xyz = d_xyz[:, outliers]\n",
    "\n",
    "    # step 8: store the rigid motion\n",
    "    rigid_rot.append(R)\n",
    "    rigid_t.append(t)\n",
    "    \n",
    "    #step 9: store the inliers and restore initial size using former inliers\n",
    "    inliers_arr.append(inliers)\n",
    "    inliers=np.zeros(len(outliers),dtype=bool)\n",
    "    \n",
    "\n",
    "\n",
    "rigid_rot=np.array(rigid_rot)\n",
    "rigid_t=np.array(rigid_t)\n",
    "inliers_arr=np.array(inliers_arr)\n"
   ]
  },
  {
   "cell_type": "code",
   "execution_count": 68,
   "metadata": {},
   "outputs": [
    {
     "data": {
      "text/plain": [
       "(125499,)"
      ]
     },
     "execution_count": 68,
     "metadata": {},
     "output_type": "execute_result"
    }
   ],
   "source": [
    "inliers_arr[0].shape"
   ]
  },
  {
   "cell_type": "code",
   "execution_count": 53,
   "metadata": {},
   "outputs": [
    {
     "ename": "ValueError",
     "evalue": "setting an array element with a sequence. The requested array has an inhomogeneous shape after 3 dimensions. The detected shape was (10, 2, 3) + inhomogeneous part.",
     "output_type": "error",
     "traceback": [
      "\u001b[0;31m---------------------------------------------------------------------------\u001b[0m",
      "\u001b[0;31mValueError\u001b[0m                                Traceback (most recent call last)",
      "Cell \u001b[0;32mIn[53], line 1\u001b[0m\n\u001b[0;32m----> 1\u001b[0m rigid_motions\u001b[38;5;241m=\u001b[39m\u001b[43mnp\u001b[49m\u001b[38;5;241;43m.\u001b[39;49m\u001b[43marray\u001b[49m\u001b[43m(\u001b[49m\u001b[43mrigid_motions\u001b[49m\u001b[43m)\u001b[49m\n\u001b[1;32m      2\u001b[0m inliers_arr\u001b[38;5;241m=\u001b[39mnp\u001b[38;5;241m.\u001b[39marray(inliers_arr)\n",
      "\u001b[0;31mValueError\u001b[0m: setting an array element with a sequence. The requested array has an inhomogeneous shape after 3 dimensions. The detected shape was (10, 2, 3) + inhomogeneous part."
     ]
    }
   ],
   "source": [
    "rigid_motions=np.array(rigid_motions)\n",
    "inliers_arr=np.array(inliers_arr)"
   ]
  },
  {
   "cell_type": "code",
   "execution_count": 54,
   "metadata": {},
   "outputs": [
    {
     "data": {
      "text/plain": [
       "10"
      ]
     },
     "execution_count": 54,
     "metadata": {},
     "output_type": "execute_result"
    }
   ],
   "source": [
    "len(rigid_motions)\n"
   ]
  },
  {
   "cell_type": "code",
   "execution_count": 39,
   "metadata": {},
   "outputs": [
    {
     "data": {
      "text/plain": [
       "array([[ 0.9999505 , -0.00170804, -0.00979979],\n",
       "       [ 0.00145509,  0.99966717, -0.02575985],\n",
       "       [ 0.00984054,  0.02574423,  0.99962014]], dtype=float32)"
      ]
     },
     "execution_count": 39,
     "metadata": {},
     "output_type": "execute_result"
    }
   ],
   "source": [
    "R"
   ]
  },
  {
   "cell_type": "code",
   "execution_count": 28,
   "metadata": {},
   "outputs": [],
   "source": [
    "# Randomly sample a subset of points\n",
    "np.random.seed(42)  # For reproducibility\n",
    "idx = np.random.choice(d_xyz.shape[1], size=1000, replace=False)\n",
    "subset_canonical = canonical_d_xyz[idx]\n",
    "subset_timestamp = d_xyz[timestamp][idx]\n",
    "\n",
    "\n",
    "# Estimate the transformation from inliers\n",
    "R_est, t_est = rigid_transform_3D(subset_canonical, subset_timestamp)"
   ]
  },
  {
   "cell_type": "code",
   "execution_count": 31,
   "metadata": {},
   "outputs": [
    {
     "data": {
      "text/plain": [
       "array([ 0.02520336,  0.00405271, -0.00646819], dtype=float32)"
      ]
     },
     "execution_count": 31,
     "metadata": {},
     "output_type": "execute_result"
    }
   ],
   "source": [
    "t_est"
   ]
  },
  {
   "cell_type": "code",
   "execution_count": 6,
   "metadata": {},
   "outputs": [
    {
     "data": {
      "text/plain": [
       "array([[0., 0., 0.],\n",
       "       [0., 0., 0.],\n",
       "       [0., 0., 0.],\n",
       "       ...,\n",
       "       [0., 0., 0.],\n",
       "       [0., 0., 0.],\n",
       "       [0., 0., 0.]], dtype=float32)"
      ]
     },
     "execution_count": 6,
     "metadata": {},
     "output_type": "execute_result"
    }
   ],
   "source": [
    "canonical_d_xyz"
   ]
  },
  {
   "cell_type": "code",
   "execution_count": null,
   "metadata": {},
   "outputs": [],
   "source": []
  }
 ],
 "metadata": {
  "kernelspec": {
   "display_name": "pytorch_env",
   "language": "python",
   "name": "python3"
  },
  "language_info": {
   "codemirror_mode": {
    "name": "ipython",
    "version": 3
   },
   "file_extension": ".py",
   "mimetype": "text/x-python",
   "name": "python",
   "nbconvert_exporter": "python",
   "pygments_lexer": "ipython3",
   "version": "3.8.16"
  }
 },
 "nbformat": 4,
 "nbformat_minor": 2
}
